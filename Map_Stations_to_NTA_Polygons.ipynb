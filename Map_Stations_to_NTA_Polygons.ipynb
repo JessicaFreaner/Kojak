{
 "metadata": {
  "name": "",
  "signature": "sha256:744c009be7f5ed6149b21a6c7bd149a6d5edc56d3f78a2dda49ff079671f4ce2"
 },
 "nbformat": 3,
 "nbformat_minor": 0,
 "worksheets": [
  {
   "cells": [
    {
     "cell_type": "code",
     "collapsed": false,
     "input": [
      "williamsburg= [[ -73.950238367789296, 40.705481503573793 ], [ -73.947053481395372, 40.703672206518497 ], [ -73.951289623958758, 40.700930621475891 ], [ -73.953813400281661, 40.703189236140197 ], [ -73.957458796629979, 40.700830858939575 ], [ -73.957021363223504, 40.69898216975718 ], [ -73.962841070959854, 40.698046923360323 ], [ -73.962181215268842, 40.700228966075805 ], [ -73.967211055997808, 40.704263965239633 ], [ -73.968390772912869, 40.706837443296394 ], [ -73.963280172293679, 40.707737555423606 ], [ -73.958457200896063, 40.707260104425828 ], [ -73.958385756624608, 40.707684947865104 ], [ -73.957905740229691, 40.7084354307 ], [ -73.95191198779257, 40.706368335958345 ], [ -73.950238367789296, 40.705481503573793 ] ] ;\n",
      "bedford = [-73.956614,40.707241];\n"
     ],
     "language": "python",
     "metadata": {},
     "outputs": [],
     "prompt_number": 4
    },
    {
     "cell_type": "code",
     "collapsed": false,
     "input": [
      "# determine if a point is inside a given polygon or not\n",
      "# Polygon is a list of (x,y) pairs.\n",
      "\n",
      "def point_inside_polygon(x,y,poly):\n",
      "\n",
      "    n = len(poly)\n",
      "    inside =False\n",
      "\n",
      "    p1x,p1y = poly[0]\n",
      "    for i in range(n+1):\n",
      "        p2x,p2y = poly[i % n]\n",
      "        if y > min(p1y,p2y):\n",
      "            if y <= max(p1y,p2y):\n",
      "                if x <= max(p1x,p2x):\n",
      "                    if p1y != p2y:\n",
      "                        xinters = (y-p1y)*(p2x-p1x)/(p2y-p1y)+p1x\n",
      "                    if p1x == p2x or x <= xinters:\n",
      "                        inside = not inside\n",
      "        p1x,p1y = p2x,p2y\n",
      "\n",
      "    return inside"
     ],
     "language": "python",
     "metadata": {},
     "outputs": [],
     "prompt_number": 13
    },
    {
     "cell_type": "code",
     "collapsed": false,
     "input": [
      "point_inside_polygon(bedford[0],bedford[1],williamsburg)"
     ],
     "language": "python",
     "metadata": {},
     "outputs": [
      {
       "metadata": {},
       "output_type": "pyout",
       "prompt_number": 14,
       "text": [
        "True"
       ]
      }
     ],
     "prompt_number": 14
    },
    {
     "cell_type": "code",
     "collapsed": false,
     "input": [],
     "language": "python",
     "metadata": {},
     "outputs": []
    }
   ],
   "metadata": {}
  }
 ]
}